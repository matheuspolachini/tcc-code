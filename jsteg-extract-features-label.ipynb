{
 "cells": [
  {
   "cell_type": "code",
   "execution_count": 1,
   "metadata": {},
   "outputs": [],
   "source": [
    "import shutil\n",
    "import math\n",
    "import csv\n",
    "import cv2\n",
    "from PIL import Image, ImageFilter\n",
    "import numpy as np\n",
    "from pathlib import Path"
   ]
  },
  {
   "cell_type": "code",
   "execution_count": 2,
   "metadata": {},
   "outputs": [
    {
     "data": {
      "text/plain": [
       "PosixPath('/media/external/tcc_work/code')"
      ]
     },
     "execution_count": 2,
     "metadata": {},
     "output_type": "execute_result"
    }
   ],
   "source": [
    "base_dir = Path('/media/external/tcc_work')\n",
    "base_dir.cwd()"
   ]
  },
  {
   "cell_type": "code",
   "execution_count": 3,
   "metadata": {},
   "outputs": [],
   "source": [
    "def average_distance(img1, img2):\n",
    "    return np.average(img1 - img2)\n",
    "\n",
    "def l2_distance(img1, img2):\n",
    "    width, height = img1.shape[:2]\n",
    "    return np.linalg.norm(img1 - img2) / (width * height)\n",
    "\n",
    "def structure_content(img1, img2):\n",
    "    return np.sum(np.square(img1)) / np.sum(np.square(img2))\n",
    "\n",
    "def image_fidelity(img1, img2):\n",
    "    return 1 - np.sum(np.square(img1 - img2)) / np.sum(np.square(img2))\n",
    "\n",
    "def n_cross_correlation(img1, img2):\n",
    "    return np.sum(img1 * img2) / np.sum(np.square(img1))\n",
    "\n",
    "def nmse(img1, img2):\n",
    "    return np.sum(np.square(img1 - img2)) / np.sum(np.square(img1))\n",
    "\n",
    "def psnr(img1, img2):\n",
    "    return cv2.PSNR(img1, img2)"
   ]
  },
  {
   "cell_type": "code",
   "execution_count": 4,
   "metadata": {},
   "outputs": [],
   "source": [
    "def filt(sigma=0.5,mask=3):\n",
    "  \"\"\"\n",
    "    Create the kernel (numpy array) for the Gaussian smoothing \n",
    "    operation used by Avcibas et al.\n",
    "  \"\"\"\n",
    "  K = 1/(2*math.pi*sigma**2)\n",
    "  assert mask % 2 == 1\n",
    "  mx = int(mask/2)\n",
    "  return np.array( [ [ K*math.exp( -(m**2+n**2)/(2*sigma**2) )\n",
    "     for m in range(-mx,mx+1) ]\n",
    "     for n in range(-mx,mx+1) ] )"
   ]
  },
  {
   "cell_type": "code",
   "execution_count": 5,
   "metadata": {},
   "outputs": [],
   "source": [
    "temp_dir = base_dir / 'temp_jpg_filter'\n",
    "\n",
    "def create_filter_copy(jpg_file):\n",
    "  filename = jpg_file.stem\n",
    "  img = Image.open(jpg_file)\n",
    "  \n",
    "  filter = ImageFilter.Kernel((3, 3), filt(sigma=0.5,mask=3).flatten())\n",
    "  filtered_img = img.filter(filter)\n",
    "\n",
    "  output_path = temp_dir / f'{filename}.jpg'\n",
    "  filtered_img.save(output_path)\n",
    "  return output_path"
   ]
  },
  {
   "cell_type": "code",
   "execution_count": 9,
   "metadata": {},
   "outputs": [],
   "source": [
    "def write_features_and_labels(folder):\n",
    "  if temp_dir.exists():\n",
    "    shutil.rmtree(temp_dir)\n",
    "  temp_dir.mkdir()\n",
    "\n",
    "  csv_path = base_dir / f'{folder.name}_features_label.csv'\n",
    "  if csv_path.exists():\n",
    "    csv_path.unlink()\n",
    "\n",
    "  with csv_path.open('w', newline = '') as csv_file:\n",
    "    writer = csv.writer(csv_file)\n",
    "    for child in folder.iterdir():\n",
    "      if child.suffix != '.jpg':\n",
    "        continue\n",
    "      if child.stat().st_size == 0:\n",
    "        continue\n",
    "      print(f'Processing file {child.as_posix()}')\n",
    "      jpg_copy_path = create_filter_copy(child)\n",
    "      img1 = cv2.imread(child.as_posix())\n",
    "      img2 = cv2.imread(jpg_copy_path.as_posix())\n",
    "\n",
    "      ad = average_distance(img1, img2)\n",
    "      l2dist = l2_distance(img1, img2)\n",
    "      struct_content = structure_content(img1, img2)\n",
    "      fidelity = image_fidelity(img1, img2)\n",
    "      n_cross_rel = n_cross_correlation(img1, img2)\n",
    "      nmse_val = nmse(img1, img2)\n",
    "      psnr_val = psnr(img1, img2)\n",
    "\n",
    "      filename = child.stem\n",
    "\n",
    "      if filename.startswith('encoded_'):\n",
    "        label = 1\n",
    "      else:\n",
    "        label = 0\n",
    "      \n",
    "      writer.writerow([filename, ad, l2dist, struct_content, fidelity, n_cross_rel, nmse_val, psnr_val, label])"
   ]
  },
  {
   "cell_type": "code",
   "execution_count": 10,
   "metadata": {},
   "outputs": [
    {
     "name": "stdout",
     "output_type": "stream",
     "text": [
      "writing labels and features for jsteg\n",
      "Processing file /media/external/tcc_work/jsteg/encoded_12614.jpg\n"
     ]
    }
   ],
   "source": [
    "dataset_folder = base_dir / 'jsteg'\n",
    "print(f'writing labels and features for {dataset_folder.name}')\n",
    "write_features_and_labels(dataset_folder)"
   ]
  }
 ],
 "metadata": {
  "kernelspec": {
   "display_name": "Python 3.10.5 64-bit",
   "language": "python",
   "name": "python3"
  },
  "language_info": {
   "codemirror_mode": {
    "name": "ipython",
    "version": 3
   },
   "file_extension": ".py",
   "mimetype": "text/x-python",
   "name": "python",
   "nbconvert_exporter": "python",
   "pygments_lexer": "ipython3",
   "version": "3.10.5"
  },
  "orig_nbformat": 4,
  "vscode": {
   "interpreter": {
    "hash": "767d51c1340bd893661ea55ea3124f6de3c7a262a8b4abca0554b478b1e2ff90"
   }
  }
 },
 "nbformat": 4,
 "nbformat_minor": 2
}
