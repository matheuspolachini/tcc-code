{
 "cells": [
  {
   "cell_type": "code",
   "execution_count": 2,
   "metadata": {},
   "outputs": [],
   "source": [
    "from pathlib import Path\n",
    "import pandas as pd\n",
    "import numpy as np\n",
    "from sklearn.model_selection import train_test_split\n",
    "from sklearn.svm import SVC\n",
    "from sklearn.preprocessing import StandardScaler\n",
    "from sklearn.pipeline import make_pipeline"
   ]
  },
  {
   "cell_type": "code",
   "execution_count": 3,
   "metadata": {},
   "outputs": [
    {
     "data": {
      "text/plain": [
       "PosixPath('/media/external/tcc_work/code')"
      ]
     },
     "execution_count": 3,
     "metadata": {},
     "output_type": "execute_result"
    }
   ],
   "source": [
    "base_dir = Path('/media/external/tcc_work')\n",
    "base_dir.cwd()"
   ]
  },
  {
   "cell_type": "code",
   "execution_count": 4,
   "metadata": {},
   "outputs": [
    {
     "name": "stdout",
     "output_type": "stream",
     "text": [
      "(5113, 9)\n"
     ]
    },
    {
     "data": {
      "text/html": [
       "<div>\n",
       "<style scoped>\n",
       "    .dataframe tbody tr th:only-of-type {\n",
       "        vertical-align: middle;\n",
       "    }\n",
       "\n",
       "    .dataframe tbody tr th {\n",
       "        vertical-align: top;\n",
       "    }\n",
       "\n",
       "    .dataframe thead th {\n",
       "        text-align: right;\n",
       "    }\n",
       "</style>\n",
       "<table border=\"1\" class=\"dataframe\">\n",
       "  <thead>\n",
       "    <tr style=\"text-align: right;\">\n",
       "      <th></th>\n",
       "      <th>average distance</th>\n",
       "      <th>l2 distance</th>\n",
       "      <th>structure content</th>\n",
       "      <th>image fidelity</th>\n",
       "      <th>n cross correlation</th>\n",
       "      <th>nmse</th>\n",
       "      <th>psnr</th>\n",
       "      <th>label</th>\n",
       "    </tr>\n",
       "  </thead>\n",
       "  <tbody>\n",
       "    <tr>\n",
       "      <th>0</th>\n",
       "      <td>56.931707</td>\n",
       "      <td>0.766108</td>\n",
       "      <td>0.977053</td>\n",
       "      <td>0.673182</td>\n",
       "      <td>1.075571</td>\n",
       "      <td>0.334493</td>\n",
       "      <td>24.429944</td>\n",
       "      <td>1</td>\n",
       "    </tr>\n",
       "    <tr>\n",
       "      <th>1</th>\n",
       "      <td>61.668783</td>\n",
       "      <td>0.830125</td>\n",
       "      <td>1.001930</td>\n",
       "      <td>0.808079</td>\n",
       "      <td>1.143870</td>\n",
       "      <td>0.191552</td>\n",
       "      <td>32.460343</td>\n",
       "      <td>0</td>\n",
       "    </tr>\n",
       "    <tr>\n",
       "      <th>2</th>\n",
       "      <td>0.000000</td>\n",
       "      <td>0.000000</td>\n",
       "      <td>1.000000</td>\n",
       "      <td>1.000000</td>\n",
       "      <td>1.000000</td>\n",
       "      <td>0.000000</td>\n",
       "      <td>361.201999</td>\n",
       "      <td>0</td>\n",
       "    </tr>\n",
       "    <tr>\n",
       "      <th>3</th>\n",
       "      <td>129.196971</td>\n",
       "      <td>1.154495</td>\n",
       "      <td>0.994355</td>\n",
       "      <td>0.173871</td>\n",
       "      <td>1.175155</td>\n",
       "      <td>0.830818</td>\n",
       "      <td>21.093058</td>\n",
       "      <td>0</td>\n",
       "    </tr>\n",
       "    <tr>\n",
       "      <th>4</th>\n",
       "      <td>64.737274</td>\n",
       "      <td>0.846629</td>\n",
       "      <td>0.985915</td>\n",
       "      <td>0.790668</td>\n",
       "      <td>1.060851</td>\n",
       "      <td>0.212322</td>\n",
       "      <td>30.039491</td>\n",
       "      <td>0</td>\n",
       "    </tr>\n",
       "    <tr>\n",
       "      <th>...</th>\n",
       "      <td>...</td>\n",
       "      <td>...</td>\n",
       "      <td>...</td>\n",
       "      <td>...</td>\n",
       "      <td>...</td>\n",
       "      <td>...</td>\n",
       "      <td>...</td>\n",
       "      <td>...</td>\n",
       "    </tr>\n",
       "    <tr>\n",
       "      <th>5108</th>\n",
       "      <td>95.263112</td>\n",
       "      <td>1.016418</td>\n",
       "      <td>0.994516</td>\n",
       "      <td>0.619627</td>\n",
       "      <td>1.100389</td>\n",
       "      <td>0.382470</td>\n",
       "      <td>25.548389</td>\n",
       "      <td>1</td>\n",
       "    </tr>\n",
       "    <tr>\n",
       "      <th>5109</th>\n",
       "      <td>14.915268</td>\n",
       "      <td>0.413426</td>\n",
       "      <td>0.996841</td>\n",
       "      <td>0.983825</td>\n",
       "      <td>1.015888</td>\n",
       "      <td>0.016226</td>\n",
       "      <td>44.389046</td>\n",
       "      <td>0</td>\n",
       "    </tr>\n",
       "    <tr>\n",
       "      <th>5110</th>\n",
       "      <td>122.644246</td>\n",
       "      <td>1.129903</td>\n",
       "      <td>0.968373</td>\n",
       "      <td>0.249849</td>\n",
       "      <td>1.166975</td>\n",
       "      <td>0.774651</td>\n",
       "      <td>21.840372</td>\n",
       "      <td>1</td>\n",
       "    </tr>\n",
       "    <tr>\n",
       "      <th>5111</th>\n",
       "      <td>108.637075</td>\n",
       "      <td>1.091126</td>\n",
       "      <td>0.986380</td>\n",
       "      <td>0.561347</td>\n",
       "      <td>1.168969</td>\n",
       "      <td>0.444710</td>\n",
       "      <td>26.456649</td>\n",
       "      <td>0</td>\n",
       "    </tr>\n",
       "    <tr>\n",
       "      <th>5112</th>\n",
       "      <td>57.781901</td>\n",
       "      <td>0.813645</td>\n",
       "      <td>0.997008</td>\n",
       "      <td>0.938767</td>\n",
       "      <td>1.091931</td>\n",
       "      <td>0.061416</td>\n",
       "      <td>38.170480</td>\n",
       "      <td>0</td>\n",
       "    </tr>\n",
       "  </tbody>\n",
       "</table>\n",
       "<p>5113 rows × 8 columns</p>\n",
       "</div>"
      ],
      "text/plain": [
       "      average distance  l2 distance  structure content  image fidelity  \\\n",
       "0            56.931707     0.766108           0.977053        0.673182   \n",
       "1            61.668783     0.830125           1.001930        0.808079   \n",
       "2             0.000000     0.000000           1.000000        1.000000   \n",
       "3           129.196971     1.154495           0.994355        0.173871   \n",
       "4            64.737274     0.846629           0.985915        0.790668   \n",
       "...                ...          ...                ...             ...   \n",
       "5108         95.263112     1.016418           0.994516        0.619627   \n",
       "5109         14.915268     0.413426           0.996841        0.983825   \n",
       "5110        122.644246     1.129903           0.968373        0.249849   \n",
       "5111        108.637075     1.091126           0.986380        0.561347   \n",
       "5112         57.781901     0.813645           0.997008        0.938767   \n",
       "\n",
       "      n cross correlation      nmse        psnr  label  \n",
       "0                1.075571  0.334493   24.429944      1  \n",
       "1                1.143870  0.191552   32.460343      0  \n",
       "2                1.000000  0.000000  361.201999      0  \n",
       "3                1.175155  0.830818   21.093058      0  \n",
       "4                1.060851  0.212322   30.039491      0  \n",
       "...                   ...       ...         ...    ...  \n",
       "5108             1.100389  0.382470   25.548389      1  \n",
       "5109             1.015888  0.016226   44.389046      0  \n",
       "5110             1.166975  0.774651   21.840372      1  \n",
       "5111             1.168969  0.444710   26.456649      0  \n",
       "5112             1.091931  0.061416   38.170480      0  \n",
       "\n",
       "[5113 rows x 8 columns]"
      ]
     },
     "execution_count": 4,
     "metadata": {},
     "output_type": "execute_result"
    }
   ],
   "source": [
    "csv_path = base_dir / 'jsteg_features_label.csv'\n",
    "df_data = pd.read_csv(csv_path, names=['filename', 'average distance', 'l2 distance', 'structure content', 'image fidelity', 'n cross correlation', 'nmse', 'psnr', 'label'])\n",
    "print(df_data.shape)\n",
    "del df_data['filename']\n",
    "df_data"
   ]
  },
  {
   "cell_type": "code",
   "execution_count": 5,
   "metadata": {},
   "outputs": [
    {
     "name": "stdout",
     "output_type": "stream",
     "text": [
      "[[5.69317067e+01 7.66108162e-01 9.77053467e-01 ... 1.07557061e+00\n",
      "  3.34493247e-01 2.44299442e+01]\n",
      " [6.16687826e+01 8.30125389e-01 1.00192974e+00 ... 1.14387005e+00\n",
      "  1.91551508e-01 3.24603431e+01]\n",
      " [0.00000000e+00 0.00000000e+00 1.00000000e+00 ... 1.00000000e+00\n",
      "  0.00000000e+00 3.61201999e+02]\n",
      " ...\n",
      " [1.22644246e+02 1.12990260e+00 9.68372661e-01 ... 1.16697535e+00\n",
      "  7.74651422e-01 2.18403722e+01]\n",
      " [1.08637075e+02 1.09112625e+00 9.86380385e-01 ... 1.16896870e+00\n",
      "  4.44710217e-01 2.64566488e+01]\n",
      " [5.77819010e+01 8.13644929e-01 9.97008073e-01 ... 1.09193123e+00\n",
      "  6.14162624e-02 3.81704801e+01]]\n"
     ]
    }
   ],
   "source": [
    "arr = df_data.to_numpy()\n",
    "X = arr[:, :7]\n",
    "y = arr[:, 7]\n",
    "\n",
    "print(X)"
   ]
  },
  {
   "cell_type": "code",
   "execution_count": 7,
   "metadata": {},
   "outputs": [
    {
     "name": "stdout",
     "output_type": "stream",
     "text": [
      "0.5202086049543677\n"
     ]
    }
   ],
   "source": [
    "X_train, X_test, y_train, y_test = train_test_split(X, y, test_size=0.3)\n",
    "#print(X_train.dtype)\n",
    "#print(y_train.dtype)\n",
    "#clf = svm.SVC()\n",
    "\n",
    "clf = make_pipeline(StandardScaler(), SVC(C=1.0, kernel='poly', gamma='scale'))\n",
    "\n",
    "# clf = make_pipeline(StandardScaler(), SVC())\n",
    "#clf = RandomForestClassifier()\n",
    "clf.fit(X_train, y_train)\n",
    "\n",
    "score = clf.score(X_test, y_test)\n",
    "print(score)"
   ]
  },
  {
   "cell_type": "code",
   "execution_count": 8,
   "metadata": {},
   "outputs": [
    {
     "name": "stdout",
     "output_type": "stream",
     "text": [
      "Confusion Matrix\n",
      "[[252 527]\n",
      " [209 546]]\n",
      "Test Set: 1534\n",
      "Accuracy = 52.02086049543677 %\n"
     ]
    },
    {
     "data": {
      "text/plain": [
       "<sklearn.metrics._plot.confusion_matrix.ConfusionMatrixDisplay at 0x7fd6995ff700>"
      ]
     },
     "execution_count": 8,
     "metadata": {},
     "output_type": "execute_result"
    },
    {
     "data": {
      "image/png": "[encoded data removed]",
      "text/plain": [
       "<Figure size 432x288 with 2 Axes>"
      ]
     },
     "metadata": {
      "needs_background": "light"
     },
     "output_type": "display_data"
    }
   ],
   "source": [
    "from sklearn.metrics import confusion_matrix\n",
    "from sklearn.metrics import ConfusionMatrixDisplay\n",
    "predictions = clf.predict(X_test)\n",
    "res = confusion_matrix(y_test, predictions)\n",
    "percentage = clf.score(X_test, y_test)\n",
    "print(\"Confusion Matrix\")\n",
    "print(res)\n",
    "print(f\"Test Set: {len(X_test)}\")\n",
    "print(f\"Accuracy = {percentage*100} %\")\n",
    "ConfusionMatrixDisplay.from_predictions(y_test, predictions, display_labels=[\"estego\", \"não-estego\"])"
   ]
  }
 ],
 "metadata": {
  "kernelspec": {
   "display_name": "Python 3.10.5 64-bit",
   "language": "python",
   "name": "python3"
  },
  "language_info": {
   "codemirror_mode": {
    "name": "ipython",
    "version": 3
   },
   "file_extension": ".py",
   "mimetype": "text/x-python",
   "name": "python",
   "nbconvert_exporter": "python",
   "pygments_lexer": "ipython3",
   "version": "3.10.5"
  },
  "orig_nbformat": 4,
  "vscode": {
   "interpreter": {
    "hash": "767d51c1340bd893661ea55ea3124f6de3c7a262a8b4abca0554b478b1e2ff90"
   }
  }
 },
 "nbformat": 4,
 "nbformat_minor": 2
}
