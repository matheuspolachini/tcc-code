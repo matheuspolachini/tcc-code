{
 "cells": [
  {
   "cell_type": "code",
   "execution_count": 1,
   "metadata": {},
   "outputs": [],
   "source": [
    "from pathlib import Path\n",
    "import pandas as pd\n",
    "import numpy as np\n",
    "from sklearn.model_selection import train_test_split\n",
    "from sklearn.svm import SVC\n",
    "from sklearn.preprocessing import StandardScaler\n",
    "from sklearn.pipeline import make_pipeline"
   ]
  },
  {
   "cell_type": "code",
   "execution_count": 2,
   "metadata": {},
   "outputs": [
    {
     "data": {
      "text/plain": [
       "PosixPath('/media/external/tcc_work/code')"
      ]
     },
     "execution_count": 2,
     "metadata": {},
     "output_type": "execute_result"
    }
   ],
   "source": [
    "base_dir = Path('/media/external/tcc_work')\n",
    "base_dir.cwd()"
   ]
  },
  {
   "cell_type": "code",
   "execution_count": 3,
   "metadata": {},
   "outputs": [
    {
     "name": "stdout",
     "output_type": "stream",
     "text": [
      "(5150, 9)\n"
     ]
    },
    {
     "data": {
      "text/html": [
       "<div>\n",
       "<style scoped>\n",
       "    .dataframe tbody tr th:only-of-type {\n",
       "        vertical-align: middle;\n",
       "    }\n",
       "\n",
       "    .dataframe tbody tr th {\n",
       "        vertical-align: top;\n",
       "    }\n",
       "\n",
       "    .dataframe thead th {\n",
       "        text-align: right;\n",
       "    }\n",
       "</style>\n",
       "<table border=\"1\" class=\"dataframe\">\n",
       "  <thead>\n",
       "    <tr style=\"text-align: right;\">\n",
       "      <th></th>\n",
       "      <th>average distance</th>\n",
       "      <th>l2 distance</th>\n",
       "      <th>structure content</th>\n",
       "      <th>image fidelity</th>\n",
       "      <th>n cross correlation</th>\n",
       "      <th>nmse</th>\n",
       "      <th>psnr</th>\n",
       "      <th>label</th>\n",
       "    </tr>\n",
       "  </thead>\n",
       "  <tbody>\n",
       "    <tr>\n",
       "      <th>0</th>\n",
       "      <td>110.410233</td>\n",
       "      <td>1.117600</td>\n",
       "      <td>0.996417</td>\n",
       "      <td>0.766773</td>\n",
       "      <td>1.154550</td>\n",
       "      <td>0.234066</td>\n",
       "      <td>32.781810</td>\n",
       "      <td>1</td>\n",
       "    </tr>\n",
       "    <tr>\n",
       "      <th>1</th>\n",
       "      <td>123.259460</td>\n",
       "      <td>1.163086</td>\n",
       "      <td>0.999271</td>\n",
       "      <td>0.404280</td>\n",
       "      <td>1.214802</td>\n",
       "      <td>0.596155</td>\n",
       "      <td>27.763978</td>\n",
       "      <td>1</td>\n",
       "    </tr>\n",
       "    <tr>\n",
       "      <th>2</th>\n",
       "      <td>115.180588</td>\n",
       "      <td>1.140162</td>\n",
       "      <td>0.997557</td>\n",
       "      <td>0.742499</td>\n",
       "      <td>1.136962</td>\n",
       "      <td>0.258132</td>\n",
       "      <td>32.549924</td>\n",
       "      <td>1</td>\n",
       "    </tr>\n",
       "    <tr>\n",
       "      <th>3</th>\n",
       "      <td>123.414215</td>\n",
       "      <td>1.160832</td>\n",
       "      <td>1.009542</td>\n",
       "      <td>0.411698</td>\n",
       "      <td>1.140562</td>\n",
       "      <td>0.582742</td>\n",
       "      <td>26.913501</td>\n",
       "      <td>1</td>\n",
       "    </tr>\n",
       "    <tr>\n",
       "      <th>4</th>\n",
       "      <td>105.879456</td>\n",
       "      <td>1.101438</td>\n",
       "      <td>1.000132</td>\n",
       "      <td>0.905325</td>\n",
       "      <td>1.142592</td>\n",
       "      <td>0.094663</td>\n",
       "      <td>38.023199</td>\n",
       "      <td>0</td>\n",
       "    </tr>\n",
       "    <tr>\n",
       "      <th>...</th>\n",
       "      <td>...</td>\n",
       "      <td>...</td>\n",
       "      <td>...</td>\n",
       "      <td>...</td>\n",
       "      <td>...</td>\n",
       "      <td>...</td>\n",
       "      <td>...</td>\n",
       "      <td>...</td>\n",
       "    </tr>\n",
       "    <tr>\n",
       "      <th>5145</th>\n",
       "      <td>111.843562</td>\n",
       "      <td>1.128775</td>\n",
       "      <td>1.002169</td>\n",
       "      <td>0.842222</td>\n",
       "      <td>1.153222</td>\n",
       "      <td>0.157437</td>\n",
       "      <td>34.937279</td>\n",
       "      <td>0</td>\n",
       "    </tr>\n",
       "    <tr>\n",
       "      <th>5146</th>\n",
       "      <td>122.946309</td>\n",
       "      <td>1.160643</td>\n",
       "      <td>1.003628</td>\n",
       "      <td>0.400202</td>\n",
       "      <td>1.175039</td>\n",
       "      <td>0.597630</td>\n",
       "      <td>27.500731</td>\n",
       "      <td>0</td>\n",
       "    </tr>\n",
       "    <tr>\n",
       "      <th>5147</th>\n",
       "      <td>116.780177</td>\n",
       "      <td>1.147466</td>\n",
       "      <td>1.005007</td>\n",
       "      <td>0.724389</td>\n",
       "      <td>1.149457</td>\n",
       "      <td>0.274238</td>\n",
       "      <td>32.392978</td>\n",
       "      <td>1</td>\n",
       "    </tr>\n",
       "    <tr>\n",
       "      <th>5148</th>\n",
       "      <td>117.639303</td>\n",
       "      <td>1.138356</td>\n",
       "      <td>1.010167</td>\n",
       "      <td>0.545478</td>\n",
       "      <td>1.092188</td>\n",
       "      <td>0.449948</td>\n",
       "      <td>27.500400</td>\n",
       "      <td>1</td>\n",
       "    </tr>\n",
       "    <tr>\n",
       "      <th>5149</th>\n",
       "      <td>117.497269</td>\n",
       "      <td>1.150071</td>\n",
       "      <td>1.015783</td>\n",
       "      <td>0.699877</td>\n",
       "      <td>1.145733</td>\n",
       "      <td>0.295460</td>\n",
       "      <td>31.064760</td>\n",
       "      <td>0</td>\n",
       "    </tr>\n",
       "  </tbody>\n",
       "</table>\n",
       "<p>5150 rows × 8 columns</p>\n",
       "</div>"
      ],
      "text/plain": [
       "      average distance  l2 distance  structure content  image fidelity  \\\n",
       "0           110.410233     1.117600           0.996417        0.766773   \n",
       "1           123.259460     1.163086           0.999271        0.404280   \n",
       "2           115.180588     1.140162           0.997557        0.742499   \n",
       "3           123.414215     1.160832           1.009542        0.411698   \n",
       "4           105.879456     1.101438           1.000132        0.905325   \n",
       "...                ...          ...                ...             ...   \n",
       "5145        111.843562     1.128775           1.002169        0.842222   \n",
       "5146        122.946309     1.160643           1.003628        0.400202   \n",
       "5147        116.780177     1.147466           1.005007        0.724389   \n",
       "5148        117.639303     1.138356           1.010167        0.545478   \n",
       "5149        117.497269     1.150071           1.015783        0.699877   \n",
       "\n",
       "      n cross correlation      nmse       psnr  label  \n",
       "0                1.154550  0.234066  32.781810      1  \n",
       "1                1.214802  0.596155  27.763978      1  \n",
       "2                1.136962  0.258132  32.549924      1  \n",
       "3                1.140562  0.582742  26.913501      1  \n",
       "4                1.142592  0.094663  38.023199      0  \n",
       "...                   ...       ...        ...    ...  \n",
       "5145             1.153222  0.157437  34.937279      0  \n",
       "5146             1.175039  0.597630  27.500731      0  \n",
       "5147             1.149457  0.274238  32.392978      1  \n",
       "5148             1.092188  0.449948  27.500400      1  \n",
       "5149             1.145733  0.295460  31.064760      0  \n",
       "\n",
       "[5150 rows x 8 columns]"
      ]
     },
     "execution_count": 3,
     "metadata": {},
     "output_type": "execute_result"
    }
   ],
   "source": [
    "csv_path = base_dir / 'pvd_features_label.csv'\n",
    "df_data = pd.read_csv(csv_path, names=['filename', 'average distance', 'l2 distance', 'structure content', 'image fidelity', 'n cross correlation', 'nmse', 'psnr', 'label'])\n",
    "print(df_data.shape)\n",
    "del df_data['filename']\n",
    "df_data"
   ]
  },
  {
   "cell_type": "code",
   "execution_count": 4,
   "metadata": {},
   "outputs": [
    {
     "name": "stdout",
     "output_type": "stream",
     "text": [
      "[[110.41023254   1.11759958   0.99641671 ...   1.15455032   0.23406618\n",
      "   32.78181028]\n",
      " [123.25946045   1.16308626   0.99927118 ...   1.21480224   0.59615485\n",
      "   27.76397837]\n",
      " [115.18058777   1.14016176   0.99755656 ...   1.13696171   0.25813192\n",
      "   32.54992359]\n",
      " ...\n",
      " [116.7801768    1.14746643   1.00500653 ...   1.14945694   0.27423766\n",
      "   32.39297802]\n",
      " [117.63930257   1.13835628   1.01016733 ...   1.09218828   0.44994771\n",
      "   27.5004004 ]\n",
      " [117.49726868   1.15007149   1.01578312 ...   1.1457335    0.29545966\n",
      "   31.06476043]]\n"
     ]
    }
   ],
   "source": [
    "arr = df_data.to_numpy()\n",
    "X = arr[:, :7]\n",
    "y = arr[:, 7]\n",
    "\n",
    "print(X)"
   ]
  },
  {
   "cell_type": "code",
   "execution_count": 20,
   "metadata": {},
   "outputs": [
    {
     "name": "stdout",
     "output_type": "stream",
     "text": [
      "0.5941747572815534\n"
     ]
    }
   ],
   "source": [
    "X_train, X_test, y_train, y_test = train_test_split(X, y, test_size=0.3)\n",
    "#print(X_train.dtype)\n",
    "#print(y_train.dtype)\n",
    "#clf = svm.SVC()\n",
    "clf = make_pipeline(StandardScaler(), SVC(C=1.0, kernel='rbf', gamma='scale'))\n",
    "#clf = make_pipeline(StandardScaler(), SVC())\n",
    "#clf = RandomForestClassifier()\n",
    "clf.fit(X_train, y_train)\n",
    "\n",
    "score = clf.score(X_test, y_test)\n",
    "print(score)"
   ]
  },
  {
   "cell_type": "code",
   "execution_count": 21,
   "metadata": {},
   "outputs": [
    {
     "name": "stdout",
     "output_type": "stream",
     "text": [
      "Confusion Matrix\n",
      "[[432 345]\n",
      " [282 486]]\n",
      "Test Set: 1545\n",
      "Accuracy = 59.417475728155345 %\n"
     ]
    },
    {
     "data": {
      "text/plain": [
       "<sklearn.metrics._plot.confusion_matrix.ConfusionMatrixDisplay at 0x7f3118de44c0>"
      ]
     },
     "execution_count": 21,
     "metadata": {},
     "output_type": "execute_result"
    },
    {
     "data": {
      "image/png": "[encoded data removed]",
      "text/plain": [
       "<Figure size 432x288 with 2 Axes>"
      ]
     },
     "metadata": {
      "needs_background": "light"
     },
     "output_type": "display_data"
    }
   ],
   "source": [
    "from sklearn.metrics import confusion_matrix\n",
    "from sklearn.metrics import ConfusionMatrixDisplay\n",
    "predictions = clf.predict(X_test)\n",
    "res = confusion_matrix(y_test, predictions)\n",
    "percentage = clf.score(X_test, y_test)\n",
    "print(\"Confusion Matrix\")\n",
    "print(res)\n",
    "print(f\"Test Set: {len(X_test)}\")\n",
    "print(f\"Accuracy = {percentage*100} %\")\n",
    "ConfusionMatrixDisplay.from_predictions(y_test, predictions, display_labels=[\"estego\", \"não-estego\"])"
   ]
  }
 ],
 "metadata": {
  "kernelspec": {
   "display_name": "Python 3.10.5 64-bit",
   "language": "python",
   "name": "python3"
  },
  "language_info": {
   "codemirror_mode": {
    "name": "ipython",
    "version": 3
   },
   "file_extension": ".py",
   "mimetype": "text/x-python",
   "name": "python",
   "nbconvert_exporter": "python",
   "pygments_lexer": "ipython3",
   "version": "3.10.5"
  },
  "orig_nbformat": 4,
  "vscode": {
   "interpreter": {
    "hash": "767d51c1340bd893661ea55ea3124f6de3c7a262a8b4abca0554b478b1e2ff90"
   }
  }
 },
 "nbformat": 4,
 "nbformat_minor": 2
}
