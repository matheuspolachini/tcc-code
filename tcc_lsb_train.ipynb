{
  "cells": [
    {
      "cell_type": "code",
      "execution_count": null,
      "metadata": {
        "colab": {
          "base_uri": "https://localhost:8080/"
        },
        "id": "mEFXLSO0b3GF",
        "outputId": "da4c1e52-4c47-4e96-a7c2-1d568c923400"
      },
      "outputs": [
        {
          "output_type": "stream",
          "name": "stdout",
          "text": [
            "Looking in indexes: https://pypi.org/simple, https://us-python.pkg.dev/colab-wheels/public/simple/\n",
            "Requirement already satisfied: numpy in /usr/local/lib/python3.7/dist-packages (1.21.6)\n",
            "Requirement already satisfied: pandas in /usr/local/lib/python3.7/dist-packages (1.3.5)\n",
            "Requirement already satisfied: sklearn in /usr/local/lib/python3.7/dist-packages (0.0)\n",
            "Requirement already satisfied: python-dateutil>=2.7.3 in /usr/local/lib/python3.7/dist-packages (from pandas) (2.8.2)\n",
            "Requirement already satisfied: pytz>=2017.3 in /usr/local/lib/python3.7/dist-packages (from pandas) (2022.1)\n",
            "Requirement already satisfied: six>=1.5 in /usr/local/lib/python3.7/dist-packages (from python-dateutil>=2.7.3->pandas) (1.15.0)\n",
            "Requirement already satisfied: scikit-learn in /usr/local/lib/python3.7/dist-packages (from sklearn) (1.0.2)\n",
            "Requirement already satisfied: joblib>=0.11 in /usr/local/lib/python3.7/dist-packages (from scikit-learn->sklearn) (1.1.0)\n",
            "Requirement already satisfied: scipy>=1.1.0 in /usr/local/lib/python3.7/dist-packages (from scikit-learn->sklearn) (1.7.3)\n",
            "Requirement already satisfied: threadpoolctl>=2.0.0 in /usr/local/lib/python3.7/dist-packages (from scikit-learn->sklearn) (3.1.0)\n"
          ]
        }
      ],
      "source": [
        "!pip install -U numpy pandas sklearn"
      ]
    },
    {
      "cell_type": "code",
      "execution_count": null,
      "metadata": {
        "id": "j8zQ9AGDcPEg"
      },
      "outputs": [],
      "source": [
        "from pathlib import Path\n",
        "import pandas as pd\n",
        "import numpy as np\n",
        "from sklearn.model_selection import train_test_split\n",
        "from sklearn.svm import SVC\n",
        "from sklearn.preprocessing import StandardScaler\n",
        "from sklearn.pipeline import make_pipeline\n",
        "from sklearn.ensemble import RandomForestClassifier\n",
        "import matplotlib.pyplot as plt\n",
        "import itertools\n",
        "from sklearn.metrics import plot_confusion_matrix\n",
        "from sklearn.metrics import ConfusionMatrixDisplay"
      ]
    },
    {
      "cell_type": "code",
      "execution_count": null,
      "metadata": {
        "colab": {
          "base_uri": "https://localhost:8080/"
        },
        "id": "7bUa5OoAcaa3",
        "outputId": "ed42a867-9d0e-4b55-c790-f011d544901d"
      },
      "outputs": [
        {
          "output_type": "stream",
          "name": "stdout",
          "text": [
            "Mounted at /content/drive/\n"
          ]
        },
        {
          "output_type": "execute_result",
          "data": {
            "text/plain": [
              "PosixPath('/content')"
            ]
          },
          "metadata": {},
          "execution_count": 4
        }
      ],
      "source": [
        "# Monta os arquivos do google drive\n",
        "from google.colab import drive\n",
        "drive.mount('/content/drive/', force_remount=True)\n",
        "base_dir = Path('/content/drive/My Drive/TCC/')\n",
        "base_dir.cwd()"
      ]
    },
    {
      "cell_type": "code",
      "execution_count": null,
      "metadata": {
        "colab": {
          "base_uri": "https://localhost:8080/",
          "height": 441
        },
        "id": "0Mqceg4ncmC-",
        "outputId": "3a3ae9af-2ebe-426b-a5f3-2717eba2341c"
      },
      "outputs": [
        {
          "output_type": "stream",
          "name": "stdout",
          "text": [
            "(5150, 9)\n"
          ]
        },
        {
          "output_type": "execute_result",
          "data": {
            "text/plain": [
              "      average distance  l2 distance  structure content  image fidelity  \\\n",
              "0           119.697372     1.145089           1.010934        0.480688   \n",
              "1           119.974518     1.148894           1.004352        0.483421   \n",
              "2           109.278524     1.112607           1.006842        0.743163   \n",
              "3           116.632884     1.150415           1.001973        0.792410   \n",
              "4           106.109268     1.099780           1.001852        0.849121   \n",
              "...                ...          ...                ...             ...   \n",
              "5145        118.956390     1.149512           1.013455        0.567359   \n",
              "5146        122.700317     1.158981           0.998393        0.424149   \n",
              "5147        119.314596     1.134298           1.011017        0.324599   \n",
              "5148        120.503713     1.154130           1.006372        0.507236   \n",
              "5149        122.036214     1.158643           0.998908        0.446929   \n",
              "\n",
              "      n cross correlation      nmse       psnr  label  \n",
              "0                1.115544  0.513696  26.951053      0  \n",
              "1                1.114118  0.514340  28.067194      0  \n",
              "2                1.080331  0.255092  32.428090      0  \n",
              "3                1.148525  0.207181  33.634536      0  \n",
              "4                1.153492  0.150600  34.017006      0  \n",
              "...                   ...       ...        ...    ...  \n",
              "5145             1.115155  0.426897  29.380865      1  \n",
              "5146             1.188407  0.576778  27.205641      1  \n",
              "5147             1.121567  0.668041  25.620702      1  \n",
              "5148             1.167352  0.489644  28.530027      1  \n",
              "5149             1.175300  0.553675  28.133884      1  \n",
              "\n",
              "[5150 rows x 8 columns]"
            ],
            "text/html": [
              "\n",
              "  <div id=\"df-6c3a5bbb-b95d-4ffe-a3ae-99f67960845c\">\n",
              "    <div class=\"colab-df-container\">\n",
              "      <div>\n",
              "<style scoped>\n",
              "    .dataframe tbody tr th:only-of-type {\n",
              "        vertical-align: middle;\n",
              "    }\n",
              "\n",
              "    .dataframe tbody tr th {\n",
              "        vertical-align: top;\n",
              "    }\n",
              "\n",
              "    .dataframe thead th {\n",
              "        text-align: right;\n",
              "    }\n",
              "</style>\n",
              "<table border=\"1\" class=\"dataframe\">\n",
              "  <thead>\n",
              "    <tr style=\"text-align: right;\">\n",
              "      <th></th>\n",
              "      <th>average distance</th>\n",
              "      <th>l2 distance</th>\n",
              "      <th>structure content</th>\n",
              "      <th>image fidelity</th>\n",
              "      <th>n cross correlation</th>\n",
              "      <th>nmse</th>\n",
              "      <th>psnr</th>\n",
              "      <th>label</th>\n",
              "    </tr>\n",
              "  </thead>\n",
              "  <tbody>\n",
              "    <tr>\n",
              "      <th>0</th>\n",
              "      <td>119.697372</td>\n",
              "      <td>1.145089</td>\n",
              "      <td>1.010934</td>\n",
              "      <td>0.480688</td>\n",
              "      <td>1.115544</td>\n",
              "      <td>0.513696</td>\n",
              "      <td>26.951053</td>\n",
              "      <td>0</td>\n",
              "    </tr>\n",
              "    <tr>\n",
              "      <th>1</th>\n",
              "      <td>119.974518</td>\n",
              "      <td>1.148894</td>\n",
              "      <td>1.004352</td>\n",
              "      <td>0.483421</td>\n",
              "      <td>1.114118</td>\n",
              "      <td>0.514340</td>\n",
              "      <td>28.067194</td>\n",
              "      <td>0</td>\n",
              "    </tr>\n",
              "    <tr>\n",
              "      <th>2</th>\n",
              "      <td>109.278524</td>\n",
              "      <td>1.112607</td>\n",
              "      <td>1.006842</td>\n",
              "      <td>0.743163</td>\n",
              "      <td>1.080331</td>\n",
              "      <td>0.255092</td>\n",
              "      <td>32.428090</td>\n",
              "      <td>0</td>\n",
              "    </tr>\n",
              "    <tr>\n",
              "      <th>3</th>\n",
              "      <td>116.632884</td>\n",
              "      <td>1.150415</td>\n",
              "      <td>1.001973</td>\n",
              "      <td>0.792410</td>\n",
              "      <td>1.148525</td>\n",
              "      <td>0.207181</td>\n",
              "      <td>33.634536</td>\n",
              "      <td>0</td>\n",
              "    </tr>\n",
              "    <tr>\n",
              "      <th>4</th>\n",
              "      <td>106.109268</td>\n",
              "      <td>1.099780</td>\n",
              "      <td>1.001852</td>\n",
              "      <td>0.849121</td>\n",
              "      <td>1.153492</td>\n",
              "      <td>0.150600</td>\n",
              "      <td>34.017006</td>\n",
              "      <td>0</td>\n",
              "    </tr>\n",
              "    <tr>\n",
              "      <th>...</th>\n",
              "      <td>...</td>\n",
              "      <td>...</td>\n",
              "      <td>...</td>\n",
              "      <td>...</td>\n",
              "      <td>...</td>\n",
              "      <td>...</td>\n",
              "      <td>...</td>\n",
              "      <td>...</td>\n",
              "    </tr>\n",
              "    <tr>\n",
              "      <th>5145</th>\n",
              "      <td>118.956390</td>\n",
              "      <td>1.149512</td>\n",
              "      <td>1.013455</td>\n",
              "      <td>0.567359</td>\n",
              "      <td>1.115155</td>\n",
              "      <td>0.426897</td>\n",
              "      <td>29.380865</td>\n",
              "      <td>1</td>\n",
              "    </tr>\n",
              "    <tr>\n",
              "      <th>5146</th>\n",
              "      <td>122.700317</td>\n",
              "      <td>1.158981</td>\n",
              "      <td>0.998393</td>\n",
              "      <td>0.424149</td>\n",
              "      <td>1.188407</td>\n",
              "      <td>0.576778</td>\n",
              "      <td>27.205641</td>\n",
              "      <td>1</td>\n",
              "    </tr>\n",
              "    <tr>\n",
              "      <th>5147</th>\n",
              "      <td>119.314596</td>\n",
              "      <td>1.134298</td>\n",
              "      <td>1.011017</td>\n",
              "      <td>0.324599</td>\n",
              "      <td>1.121567</td>\n",
              "      <td>0.668041</td>\n",
              "      <td>25.620702</td>\n",
              "      <td>1</td>\n",
              "    </tr>\n",
              "    <tr>\n",
              "      <th>5148</th>\n",
              "      <td>120.503713</td>\n",
              "      <td>1.154130</td>\n",
              "      <td>1.006372</td>\n",
              "      <td>0.507236</td>\n",
              "      <td>1.167352</td>\n",
              "      <td>0.489644</td>\n",
              "      <td>28.530027</td>\n",
              "      <td>1</td>\n",
              "    </tr>\n",
              "    <tr>\n",
              "      <th>5149</th>\n",
              "      <td>122.036214</td>\n",
              "      <td>1.158643</td>\n",
              "      <td>0.998908</td>\n",
              "      <td>0.446929</td>\n",
              "      <td>1.175300</td>\n",
              "      <td>0.553675</td>\n",
              "      <td>28.133884</td>\n",
              "      <td>1</td>\n",
              "    </tr>\n",
              "  </tbody>\n",
              "</table>\n",
              "<p>5150 rows × 8 columns</p>\n",
              "</div>\n",
              "      <button class=\"colab-df-convert\" onclick=\"convertToInteractive('df-6c3a5bbb-b95d-4ffe-a3ae-99f67960845c')\"\n",
              "              title=\"Convert this dataframe to an interactive table.\"\n",
              "              style=\"display:none;\">\n",
              "        \n",
              "  <svg xmlns=\"http://www.w3.org/2000/svg\" height=\"24px\"viewBox=\"0 0 24 24\"\n",
              "       width=\"24px\">\n",
              "    <path d=\"M0 0h24v24H0V0z\" fill=\"none\"/>\n",
              "    <path d=\"M18.56 5.44l.94 2.06.94-2.06 2.06-.94-2.06-.94-.94-2.06-.94 2.06-2.06.94zm-11 1L8.5 8.5l.94-2.06 2.06-.94-2.06-.94L8.5 2.5l-.94 2.06-2.06.94zm10 10l.94 2.06.94-2.06 2.06-.94-2.06-.94-.94-2.06-.94 2.06-2.06.94z\"/><path d=\"M17.41 7.96l-1.37-1.37c-.4-.4-.92-.59-1.43-.59-.52 0-1.04.2-1.43.59L10.3 9.45l-7.72 7.72c-.78.78-.78 2.05 0 2.83L4 21.41c.39.39.9.59 1.41.59.51 0 1.02-.2 1.41-.59l7.78-7.78 2.81-2.81c.8-.78.8-2.07 0-2.86zM5.41 20L4 18.59l7.72-7.72 1.47 1.35L5.41 20z\"/>\n",
              "  </svg>\n",
              "      </button>\n",
              "      \n",
              "  <style>\n",
              "    .colab-df-container {\n",
              "      display:flex;\n",
              "      flex-wrap:wrap;\n",
              "      gap: 12px;\n",
              "    }\n",
              "\n",
              "    .colab-df-convert {\n",
              "      background-color: #E8F0FE;\n",
              "      border: none;\n",
              "      border-radius: 50%;\n",
              "      cursor: pointer;\n",
              "      display: none;\n",
              "      fill: #1967D2;\n",
              "      height: 32px;\n",
              "      padding: 0 0 0 0;\n",
              "      width: 32px;\n",
              "    }\n",
              "\n",
              "    .colab-df-convert:hover {\n",
              "      background-color: #E2EBFA;\n",
              "      box-shadow: 0px 1px 2px rgba(60, 64, 67, 0.3), 0px 1px 3px 1px rgba(60, 64, 67, 0.15);\n",
              "      fill: #174EA6;\n",
              "    }\n",
              "\n",
              "    [theme=dark] .colab-df-convert {\n",
              "      background-color: #3B4455;\n",
              "      fill: #D2E3FC;\n",
              "    }\n",
              "\n",
              "    [theme=dark] .colab-df-convert:hover {\n",
              "      background-color: #434B5C;\n",
              "      box-shadow: 0px 1px 3px 1px rgba(0, 0, 0, 0.15);\n",
              "      filter: drop-shadow(0px 1px 2px rgba(0, 0, 0, 0.3));\n",
              "      fill: #FFFFFF;\n",
              "    }\n",
              "  </style>\n",
              "\n",
              "      <script>\n",
              "        const buttonEl =\n",
              "          document.querySelector('#df-6c3a5bbb-b95d-4ffe-a3ae-99f67960845c button.colab-df-convert');\n",
              "        buttonEl.style.display =\n",
              "          google.colab.kernel.accessAllowed ? 'block' : 'none';\n",
              "\n",
              "        async function convertToInteractive(key) {\n",
              "          const element = document.querySelector('#df-6c3a5bbb-b95d-4ffe-a3ae-99f67960845c');\n",
              "          const dataTable =\n",
              "            await google.colab.kernel.invokeFunction('convertToInteractive',\n",
              "                                                     [key], {});\n",
              "          if (!dataTable) return;\n",
              "\n",
              "          const docLinkHtml = 'Like what you see? Visit the ' +\n",
              "            '<a target=\"_blank\" href=https://colab.research.google.com/notebooks/data_table.ipynb>data table notebook</a>'\n",
              "            + ' to learn more about interactive tables.';\n",
              "          element.innerHTML = '';\n",
              "          dataTable['output_type'] = 'display_data';\n",
              "          await google.colab.output.renderOutput(dataTable, element);\n",
              "          const docLink = document.createElement('div');\n",
              "          docLink.innerHTML = docLinkHtml;\n",
              "          element.appendChild(docLink);\n",
              "        }\n",
              "      </script>\n",
              "    </div>\n",
              "  </div>\n",
              "  "
            ]
          },
          "metadata": {},
          "execution_count": 53
        }
      ],
      "source": [
        "csv_path = base_dir / 'lsb_10_features_label.csv'\n",
        "df_data = pd.read_csv(csv_path, names=['filename', 'average distance', 'l2 distance', 'structure content', 'image fidelity', 'n cross correlation', 'nmse', 'psnr', 'label'])\n",
        "print(df_data.shape)\n",
        "del df_data['filename']\n",
        "df_data"
      ]
    },
    {
      "cell_type": "code",
      "execution_count": null,
      "metadata": {
        "colab": {
          "base_uri": "https://localhost:8080/"
        },
        "id": "p1x2Da3yelZY",
        "outputId": "a1a39c09-40bf-467e-ba9d-62e6fc017751"
      },
      "outputs": [
        {
          "output_type": "stream",
          "name": "stdout",
          "text": [
            "[[119.69737244   1.14508921   1.01093384 ...   1.11554369   0.51369572\n",
            "   26.95105255]\n",
            " [119.97451782   1.14889396   1.00435201 ...   1.11411794   0.51434025\n",
            "   28.06719403]\n",
            " [109.27852376   1.11260708   1.00684192 ...   1.08033108   0.25509194\n",
            "   32.42808967]\n",
            " ...\n",
            " [119.31459554   1.13429762   1.01101699 ...   1.12156672   0.66804134\n",
            "   25.62070204]\n",
            " [120.50371297   1.15413      1.00637185 ...   1.16735229   0.48964373\n",
            "   28.53002686]\n",
            " [122.03621419   1.15864258   0.99890847 ...   1.1753001    0.55367495\n",
            "   28.13388396]]\n"
          ]
        }
      ],
      "source": [
        "arr = df_data.to_numpy()\n",
        "X = arr[:, :7]\n",
        "y = arr[:, 7]\n",
        "\n",
        "print(X)"
      ]
    },
    {
      "cell_type": "code",
      "execution_count": null,
      "metadata": {
        "colab": {
          "base_uri": "https://localhost:8080/"
        },
        "id": "k08N8Iqyf_HZ",
        "outputId": "493ff746-c935-4c7e-e01e-056712067343"
      },
      "outputs": [
        {
          "output_type": "execute_result",
          "data": {
            "text/plain": [
              "Pipeline(steps=[('standardscaler', StandardScaler()), ('svc', SVC())])"
            ]
          },
          "metadata": {},
          "execution_count": 60
        }
      ],
      "source": [
        "X_train, X_test, y_train, y_test = train_test_split(X, y, test_size=0.3)\n",
        "#print(X_train.dtype)\n",
        "#print(y_train.dtype)\n",
        "#clf = svm.SVC()\n",
        "clf = make_pipeline(StandardScaler(), SVC(C=1.0, kernel='rbf', gamma='scale'))\n",
        "#clf = RandomForestClassifier()\n",
        "clf.fit(X_train, y_train)\n",
        "\n",
        "#score = clf.score(X_train, y_train)\n",
        "#print(score)"
      ]
    },
    {
      "cell_type": "code",
      "execution_count": null,
      "metadata": {
        "colab": {
          "base_uri": "https://localhost:8080/"
        },
        "id": "TXE8aEIqr7Al",
        "outputId": "9e2749ca-6185-43fb-a5a2-64ec21e335ed"
      },
      "outputs": [
        {
          "output_type": "stream",
          "name": "stdout",
          "text": [
            "Confusion Matrix\n",
            "[[421 341]\n",
            " [380 403]]\n",
            "Test Set: 1545\n",
            "Accuracy = 53.333333333333336 %\n"
          ]
        }
      ],
      "source": [
        "from sklearn.metrics import confusion_matrix\n",
        "predictions = clf.predict(X_test)\n",
        "res = confusion_matrix(y_test, predictions)\n",
        "percentage = clf.score(X_test, y_test)\n",
        "print(\"Confusion Matrix\")\n",
        "print(res)\n",
        "print(f\"Test Set: {len(X_test)}\")\n",
        "print(f\"Accuracy = {percentage*100} %\")"
      ]
    },
    {
      "cell_type": "code",
      "source": [
        "def xxplot_confusion_matrix(cm, classes, normalize=False, title='Confusion Matrix', cmap=plt.cm.Blues):\n",
        "    if normalize:\n",
        "        cm = cm.astype('float') / cm.sum(axis=1)[:, np.newaxis]\n",
        "        print(\"Normalized confusion matrix\")\n",
        "    else:\n",
        "        print('Confusion matrix, without normalization')\n",
        "\n",
        "    print(cm)\n",
        "    plt.imshow(cm, interpolation='nearest', cmap=cmap)\n",
        "    plt.title(title)\n",
        "    plt.colorbar()\n",
        "    tick_marks = np.arange(len(classes))\n",
        "    plt.xticks(tick_marks, classes, rotation=45)\n",
        "    plt.yticks(tick_marks, classes)\n",
        "\n",
        "    fmt = '.2f' if normalize else 'd'\n",
        "    thresh = cm.max() / 2.\n",
        "    for i, j in itertools.product(range(cm.shape[0]), range(cm.shape[1])):\n",
        "        plt.text(j, i, format(cm[i, j], fmt), horizontalalignment=\"center\", color=\"white\" if cm[i, j] > thresh else \"black\")\n",
        "\n",
        "    plt.tight_layout()\n",
        "    plt.ylabel('True label')\n",
        "    plt.xlabel('Predicted label')"
      ],
      "metadata": {
        "id": "o1ipDO3tNFZk"
      },
      "execution_count": null,
      "outputs": []
    },
    {
      "cell_type": "code",
      "source": [
        "ConfusionMatrixDisplay.from_predictions(y_test, predictions, display_labels=[\"estego\", \"não-estego\"])"
      ],
      "metadata": {
        "colab": {
          "base_uri": "https://localhost:8080/",
          "height": 298
        },
        "id": "KtV_3MeVPzPI",
        "outputId": "cfee5445-9c2f-4f62-aca8-44430594ccd2"
      },
      "execution_count": null,
      "outputs": [
        {
          "output_type": "execute_result",
          "data": {
            "text/plain": [
              "<sklearn.metrics._plot.confusion_matrix.ConfusionMatrixDisplay at 0x7f7a211e8710>"
            ]
          },
          "metadata": {},
          "execution_count": 63
        },
        {
          "output_type": "display_data",
          "data": {
            "text/plain": [
              "<Figure size 432x288 with 2 Axes>"
            ],
            "image/png": "[encoded data removed]"
          },
          "metadata": {
            "needs_background": "light"
          }
        }
      ]
    }
  ],
  "metadata": {
    "colab": {
      "name": "tcc-lsb-train.ipynb",
      "provenance": [],
      "collapsed_sections": []
    },
    "gpuClass": "standard",
    "kernelspec": {
      "display_name": "Python 3",
      "name": "python3"
    },
    "language_info": {
      "name": "python"
    }
  },
  "nbformat": 4,
  "nbformat_minor": 0
}